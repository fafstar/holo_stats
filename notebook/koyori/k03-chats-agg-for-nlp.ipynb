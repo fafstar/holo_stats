{
 "cells": [
  {
   "cell_type": "markdown",
   "metadata": {},
   "source": [
    "# ライブラリ読み込み"
   ]
  },
  {
   "cell_type": "code",
   "execution_count": 1,
   "metadata": {},
   "outputs": [],
   "source": [
    "import pandas as pd\n",
    "import seaborn as sns\n",
    "import numpy as np\n",
    "import matplotlib as mpl\n",
    "import matplotlib.pyplot as plt\n",
    "import os\n",
    "import gc\n",
    "import pickle\n",
    "from tqdm import tqdm\n",
    "%matplotlib inline\n",
    "\n",
    "import glob\n",
    "plt.rcParams[\"font.size\"] = 18"
   ]
  },
  {
   "cell_type": "code",
   "execution_count": 2,
   "metadata": {},
   "outputs": [],
   "source": [
    "import itertools\n",
    "import requests\n",
    "from bs4 import BeautifulSoup\n",
    "import os\n",
    "import datetime, pytz\n",
    "from selenium import webdriver\n",
    "import lxml.html\n",
    "from lxml import html\n",
    "import copy\n",
    "from sklearn.preprocessing import MultiLabelBinarizer"
   ]
  },
  {
   "cell_type": "code",
   "execution_count": 3,
   "metadata": {},
   "outputs": [],
   "source": [
    "pd.set_option('display.max_rows', 200)\n",
    "pd.set_option('display.max_columns', 200)"
   ]
  },
  {
   "cell_type": "code",
   "execution_count": 4,
   "metadata": {},
   "outputs": [],
   "source": [
    "def set_ylim_zero_start(ax):\n",
    "    ylim = ax.get_ylim()\n",
    "    if ax.get_yscale()=='log':\n",
    "        ylim = [10 ** -1, np.max(ylim)]\n",
    "    else:\n",
    "        ylim = [np.min(ylim, 0), np.max(ylim)]\n",
    "    \n",
    "    ax.set_ylim(ylim)"
   ]
  },
  {
   "cell_type": "code",
   "execution_count": 5,
   "metadata": {},
   "outputs": [],
   "source": [
    "def set_sep3(ax, which):\n",
    "    if which=='x':\n",
    "        ax.xaxis.set_major_formatter(plt.FuncFormatter(lambda x, loc: \"{:,}\".format(int(x))))\n",
    "    elif which=='y':\n",
    "        ax.yaxis.set_major_formatter(plt.FuncFormatter(lambda x, loc: \"{:,}\".format(int(x))))\n",
    "    elif which=='both':\n",
    "        ax.xaxis.set_major_formatter(plt.FuncFormatter(lambda x, loc: \"{:,}\".format(int(x))))\n",
    "        ax.yaxis.set_major_formatter(plt.FuncFormatter(lambda x, loc: \"{:,}\".format(int(x))))"
   ]
  },
  {
   "cell_type": "code",
   "execution_count": 6,
   "metadata": {},
   "outputs": [],
   "source": [
    "mpl.rcParams[\"font.family\"] = \"sans-serif\"\n",
    "mpl.rcParams[\"font.sans-serif\"] = [\"Meiryo\"]"
   ]
  },
  {
   "cell_type": "code",
   "execution_count": 7,
   "metadata": {},
   "outputs": [],
   "source": [
    "sns.set_palette('bright')"
   ]
  },
  {
   "cell_type": "code",
   "execution_count": 8,
   "metadata": {},
   "outputs": [],
   "source": [
    "import MeCab\n",
    "import re"
   ]
  },
  {
   "cell_type": "markdown",
   "metadata": {},
   "source": [
    "# 読込"
   ]
  },
  {
   "cell_type": "code",
   "execution_count": 9,
   "metadata": {},
   "outputs": [],
   "source": [
    "li_files = glob.glob('./youtube_chats/*')"
   ]
  },
  {
   "cell_type": "code",
   "execution_count": 10,
   "metadata": {},
   "outputs": [],
   "source": [
    "li_chat_exists = pd.Series(li_files).str.extract(r'./youtube_chats\\\\(.*?).pkl')[0].to_list()"
   ]
  },
  {
   "cell_type": "code",
   "execution_count": 11,
   "metadata": {},
   "outputs": [],
   "source": [
    "df_holostats = pd.read_pickle('./アーカイブ同接推移データ/df_holostats.pkl')\n",
    "df_koyori = df_holostats[df_holostats['stats_id']=='koyori'].copy()"
   ]
  },
  {
   "cell_type": "code",
   "execution_count": 12,
   "metadata": {},
   "outputs": [],
   "source": [
    "df_chats = [] # 最後にconcatしてデータフレームに直す\n",
    "for video_id in li_chat_exists:\n",
    "    df_chats.append(\n",
    "        pd.read_pickle(f'./youtube_chats/{video_id}.pkl')\n",
    "    )\n",
    "df_chats = pd.concat(df_chats, ignore_index=True)"
   ]
  },
  {
   "cell_type": "markdown",
   "metadata": {},
   "source": [
    "# 前処理"
   ]
  },
  {
   "cell_type": "code",
   "execution_count": 13,
   "metadata": {},
   "outputs": [],
   "source": [
    "df_for_agg = pd.read_pickle('./KOYORI/df_for_agg.pkl')"
   ]
  },
  {
   "cell_type": "markdown",
   "metadata": {},
   "source": [
    "# 集計"
   ]
  },
  {
   "cell_type": "code",
   "execution_count": 14,
   "metadata": {},
   "outputs": [
    {
     "data": {
      "text/html": [
       "<div>\n",
       "<style scoped>\n",
       "    .dataframe tbody tr th:only-of-type {\n",
       "        vertical-align: middle;\n",
       "    }\n",
       "\n",
       "    .dataframe tbody tr th {\n",
       "        vertical-align: top;\n",
       "    }\n",
       "\n",
       "    .dataframe thead th {\n",
       "        text-align: right;\n",
       "    }\n",
       "</style>\n",
       "<table border=\"1\" class=\"dataframe\">\n",
       "  <thead>\n",
       "    <tr style=\"text-align: right;\">\n",
       "      <th></th>\n",
       "      <th>video_id</th>\n",
       "      <th>scheduled_start_datetime</th>\n",
       "      <th>start_datetime</th>\n",
       "      <th>end_datetime</th>\n",
       "      <th>duration</th>\n",
       "      <th>title</th>\n",
       "      <th>live_category</th>\n",
       "      <th>live_category_sub</th>\n",
       "      <th>year</th>\n",
       "      <th>month</th>\n",
       "      <th>day</th>\n",
       "      <th>year_month</th>\n",
       "      <th>view_count</th>\n",
       "      <th>like_count</th>\n",
       "      <th>favorite_count</th>\n",
       "      <th>comment_count</th>\n",
       "    </tr>\n",
       "  </thead>\n",
       "  <tbody>\n",
       "    <tr>\n",
       "      <th>0</th>\n",
       "      <td>-bEB2Utn3P4</td>\n",
       "      <td>2022-04-28 22:00:00</td>\n",
       "      <td>2022-04-28 22:00:39</td>\n",
       "      <td>2022-04-29 00:08:50</td>\n",
       "      <td>7691.0</td>\n",
       "      <td>【Surgeon Simulator2】#KoLuC で力を合わせて手術だ！Part2～！【...</td>\n",
       "      <td>Surgeon Simulator2</td>\n",
       "      <td>鷹嶺ルイ・博衣こより・沙花叉クロヱ/ホロライブ</td>\n",
       "      <td>2022</td>\n",
       "      <td>4</td>\n",
       "      <td>28</td>\n",
       "      <td>2022-04</td>\n",
       "      <td>76667.0</td>\n",
       "      <td>7123.0</td>\n",
       "      <td>0.0</td>\n",
       "      <td>109.0</td>\n",
       "    </tr>\n",
       "  </tbody>\n",
       "</table>\n",
       "</div>"
      ],
      "text/plain": [
       "      video_id scheduled_start_datetime      start_datetime  \\\n",
       "0  -bEB2Utn3P4      2022-04-28 22:00:00 2022-04-28 22:00:39   \n",
       "\n",
       "         end_datetime  duration  \\\n",
       "0 2022-04-29 00:08:50    7691.0   \n",
       "\n",
       "                                               title       live_category  \\\n",
       "0  【Surgeon Simulator2】#KoLuC で力を合わせて手術だ！Part2～！【...  Surgeon Simulator2   \n",
       "\n",
       "         live_category_sub  year  month  day year_month  view_count  \\\n",
       "0  鷹嶺ルイ・博衣こより・沙花叉クロヱ/ホロライブ  2022      4   28    2022-04     76667.0   \n",
       "\n",
       "   like_count  favorite_count  comment_count  \n",
       "0      7123.0             0.0          109.0  "
      ]
     },
     "execution_count": 14,
     "metadata": {},
     "output_type": "execute_result"
    }
   ],
   "source": [
    "df_for_agg.head(1)"
   ]
  },
  {
   "cell_type": "code",
   "execution_count": 15,
   "metadata": {},
   "outputs": [
    {
     "data": {
      "text/html": [
       "<div>\n",
       "<style scoped>\n",
       "    .dataframe tbody tr th:only-of-type {\n",
       "        vertical-align: middle;\n",
       "    }\n",
       "\n",
       "    .dataframe tbody tr th {\n",
       "        vertical-align: top;\n",
       "    }\n",
       "\n",
       "    .dataframe thead th {\n",
       "        text-align: right;\n",
       "    }\n",
       "</style>\n",
       "<table border=\"1\" class=\"dataframe\">\n",
       "  <thead>\n",
       "    <tr style=\"text-align: right;\">\n",
       "      <th></th>\n",
       "      <th>video_id</th>\n",
       "      <th>datetime</th>\n",
       "      <th>elapsedTime</th>\n",
       "      <th>timestamp</th>\n",
       "      <th>id</th>\n",
       "      <th>amountString</th>\n",
       "      <th>amountValue</th>\n",
       "      <th>author_name</th>\n",
       "      <th>message</th>\n",
       "      <th>messageEx</th>\n",
       "      <th>author_isChatSponsor</th>\n",
       "      <th>author_isChatOwner</th>\n",
       "      <th>author_isVerified</th>\n",
       "      <th>author_badgeUrl</th>\n",
       "      <th>author_channelId</th>\n",
       "      <th>author_channelUrl</th>\n",
       "      <th>author_imageUrl</th>\n",
       "      <th>author_isChatModerator</th>\n",
       "      <th>author_type</th>\n",
       "      <th>bgColor</th>\n",
       "      <th>currency</th>\n",
       "      <th>type</th>\n",
       "    </tr>\n",
       "  </thead>\n",
       "  <tbody>\n",
       "    <tr>\n",
       "      <th>0</th>\n",
       "      <td>-bEB2Utn3P4</td>\n",
       "      <td>2022-04-28 21:59:31</td>\n",
       "      <td>-62.0</td>\n",
       "      <td>1883330309</td>\n",
       "      <td>ChwKGkNMTGctUGJudHZjQ0ZVUER3Z1FkVjJnQUVn</td>\n",
       "      <td>¥540</td>\n",
       "      <td>540.0</td>\n",
       "      <td>すかーど🧪</td>\n",
       "      <td>手術成功祈願代です……</td>\n",
       "      <td>[手術成功祈願代です……]</td>\n",
       "      <td>False</td>\n",
       "      <td>False</td>\n",
       "      <td>False</td>\n",
       "      <td></td>\n",
       "      <td>UChVtdysrseX4Ubyc18Q5iCQ</td>\n",
       "      <td>http://www.youtube.com/channel/UChVtdysrseX4Ub...</td>\n",
       "      <td>https://yt4.ggpht.com/dELQfXqZwc8WXmx3-xVt_DIb...</td>\n",
       "      <td>False</td>\n",
       "      <td></td>\n",
       "      <td>4280150454</td>\n",
       "      <td>¥</td>\n",
       "      <td>superChat</td>\n",
       "    </tr>\n",
       "  </tbody>\n",
       "</table>\n",
       "</div>"
      ],
      "text/plain": [
       "      video_id            datetime  elapsedTime   timestamp  \\\n",
       "0  -bEB2Utn3P4 2022-04-28 21:59:31        -62.0  1883330309   \n",
       "\n",
       "                                         id amountString  amountValue  \\\n",
       "0  ChwKGkNMTGctUGJudHZjQ0ZVUER3Z1FkVjJnQUVn         ¥540        540.0   \n",
       "\n",
       "  author_name      message      messageEx  author_isChatSponsor  \\\n",
       "0       すかーど🧪  手術成功祈願代です……  [手術成功祈願代です……]                 False   \n",
       "\n",
       "   author_isChatOwner  author_isVerified author_badgeUrl  \\\n",
       "0               False              False                   \n",
       "\n",
       "           author_channelId  \\\n",
       "0  UChVtdysrseX4Ubyc18Q5iCQ   \n",
       "\n",
       "                                   author_channelUrl  \\\n",
       "0  http://www.youtube.com/channel/UChVtdysrseX4Ub...   \n",
       "\n",
       "                                     author_imageUrl  author_isChatModerator  \\\n",
       "0  https://yt4.ggpht.com/dELQfXqZwc8WXmx3-xVt_DIb...                   False   \n",
       "\n",
       "  author_type     bgColor currency       type  \n",
       "0              4280150454        ¥  superChat  "
      ]
     },
     "execution_count": 15,
     "metadata": {},
     "output_type": "execute_result"
    }
   ],
   "source": [
    "df_chats.head(1)"
   ]
  },
  {
   "cell_type": "markdown",
   "metadata": {
    "tags": []
   },
   "source": [
    "## 形態素解析"
   ]
  },
  {
   "cell_type": "code",
   "execution_count": 16,
   "metadata": {},
   "outputs": [],
   "source": [
    "import mojimoji"
   ]
  },
  {
   "cell_type": "code",
   "execution_count": 17,
   "metadata": {},
   "outputs": [],
   "source": [
    "# 数字の削除\n",
    "num_regex = re.compile('\\d+,?\\d*')\n",
    "    \n",
    "def text_process(text):\n",
    "    # 全角から半角に変換（カナは除く）\n",
    "    result = mojimoji.zen_to_han(text, kana=False)\n",
    "    # 半角カナから全角カナに変換\n",
    "    result = mojimoji.han_to_zen(result, ascii=False)\n",
    "    # 全ての文字を小文字に変換\n",
    "    result = result.lower()\n",
    "    # 数字は全て0に置換する\n",
    "    # result = num_regex.sub('0', result)\n",
    "    return result"
   ]
  },
  {
   "cell_type": "code",
   "execution_count": 18,
   "metadata": {},
   "outputs": [],
   "source": [
    "import emoji"
   ]
  },
  {
   "cell_type": "code",
   "execution_count": 19,
   "metadata": {},
   "outputs": [
    {
     "data": {
      "text/plain": [
       "True"
      ]
     },
     "execution_count": 19,
     "metadata": {},
     "output_type": "execute_result"
    }
   ],
   "source": [
    "emoji.is_emoji('🥀')"
   ]
  },
  {
   "cell_type": "code",
   "execution_count": null,
   "metadata": {},
   "outputs": [],
   "source": []
  },
  {
   "cell_type": "code",
   "execution_count": 20,
   "metadata": {},
   "outputs": [],
   "source": [
    "df_chats = df_chats[['video_id', 'message', 'messageEx']].copy()"
   ]
  },
  {
   "cell_type": "code",
   "execution_count": 38,
   "metadata": {},
   "outputs": [
    {
     "data": {
      "text/html": [
       "<div>\n",
       "<style scoped>\n",
       "    .dataframe tbody tr th:only-of-type {\n",
       "        vertical-align: middle;\n",
       "    }\n",
       "\n",
       "    .dataframe tbody tr th {\n",
       "        vertical-align: top;\n",
       "    }\n",
       "\n",
       "    .dataframe thead th {\n",
       "        text-align: right;\n",
       "    }\n",
       "</style>\n",
       "<table border=\"1\" class=\"dataframe\">\n",
       "  <thead>\n",
       "    <tr style=\"text-align: right;\">\n",
       "      <th></th>\n",
       "      <th>video_id</th>\n",
       "      <th>message</th>\n",
       "      <th>messageEx</th>\n",
       "    </tr>\n",
       "  </thead>\n",
       "  <tbody>\n",
       "    <tr>\n",
       "      <th>0</th>\n",
       "      <td>-bEB2Utn3P4</td>\n",
       "      <td>手術成功祈願代です……</td>\n",
       "      <td>[手術成功祈願代です……]</td>\n",
       "    </tr>\n",
       "    <tr>\n",
       "      <th>1</th>\n",
       "      <td>-bEB2Utn3P4</td>\n",
       "      <td>:_くるよー::_くるよー::_くるよー:</td>\n",
       "      <td>[{'id': 'ACLUYeXxLfeI_9EP8Ou_0A8', 'txt': ':_く...</td>\n",
       "    </tr>\n",
       "    <tr>\n",
       "      <th>2</th>\n",
       "      <td>-bEB2Utn3P4</td>\n",
       "      <td>:_くるよー::_くるよー::_くるよー:</td>\n",
       "      <td>[{'id': 'ACLUYeXxLfeI_9EP8Ou_0A8', 'txt': ':_く...</td>\n",
       "    </tr>\n",
       "    <tr>\n",
       "      <th>3</th>\n",
       "      <td>-bEB2Utn3P4</td>\n",
       "      <td>お邪魔しますm(_ _)m</td>\n",
       "      <td>[お邪魔しますm(_ _)m]</td>\n",
       "    </tr>\n",
       "    <tr>\n",
       "      <th>4</th>\n",
       "      <td>-bEB2Utn3P4</td>\n",
       "      <td>:_くるよー::_くるよー::_くるよー:</td>\n",
       "      <td>[{'id': 'ACLUYeXxLfeI_9EP8Ou_0A8', 'txt': ':_く...</td>\n",
       "    </tr>\n",
       "  </tbody>\n",
       "</table>\n",
       "</div>"
      ],
      "text/plain": [
       "      video_id                message  \\\n",
       "0  -bEB2Utn3P4            手術成功祈願代です……   \n",
       "1  -bEB2Utn3P4  :_くるよー::_くるよー::_くるよー:   \n",
       "2  -bEB2Utn3P4  :_くるよー::_くるよー::_くるよー:   \n",
       "3  -bEB2Utn3P4          お邪魔しますm(_ _)m   \n",
       "4  -bEB2Utn3P4  :_くるよー::_くるよー::_くるよー:   \n",
       "\n",
       "                                           messageEx  \n",
       "0                                      [手術成功祈願代です……]  \n",
       "1  [{'id': 'ACLUYeXxLfeI_9EP8Ou_0A8', 'txt': ':_く...  \n",
       "2  [{'id': 'ACLUYeXxLfeI_9EP8Ou_0A8', 'txt': ':_く...  \n",
       "3                                    [お邪魔しますm(_ _)m]  \n",
       "4  [{'id': 'ACLUYeXxLfeI_9EP8Ou_0A8', 'txt': ':_く...  "
      ]
     },
     "execution_count": 38,
     "metadata": {},
     "output_type": "execute_result"
    }
   ],
   "source": [
    "df_chats.head(5)"
   ]
  },
  {
   "cell_type": "code",
   "execution_count": null,
   "metadata": {},
   "outputs": [],
   "source": []
  },
  {
   "cell_type": "code",
   "execution_count": 22,
   "metadata": {},
   "outputs": [
    {
     "name": "stderr",
     "output_type": "stream",
     "text": [
      "8787412it [00:08, 1036741.48it/s]\n"
     ]
    }
   ],
   "source": [
    "li_fullchats = []\n",
    "li_ja_fullchats = []\n",
    "\n",
    "for i, li_msgs in tqdm(enumerate(df_chats['messageEx'])):\n",
    "    \n",
    "    li_emoji_words = [\n",
    "        msg if isinstance(msg,str) else msg['id'] if emoji.is_emoji(msg['id']) else msg['txt'] for msg in li_msgs\n",
    "    ]\n",
    "    \n",
    "    li_ja_words = [\n",
    "        msg  for msg in li_emoji_words if (not (msg[0]==':' and msg[-1]==':')) and (not msg.isascii())\n",
    "    ]\n",
    "    # li_sens = [msg for msg in li_msgs ]\n",
    "    \n",
    "    \n",
    "    s1 = ''.join(li_emoji_words)\n",
    "    s2 = ''.join(li_ja_words)\n",
    "    li_fullchats.append(s1)\n",
    "    li_ja_fullchats.append(s2)\n",
    "    \n",
    "    # if i==100:\n",
    "    #     break\n",
    "    "
   ]
  },
  {
   "cell_type": "code",
   "execution_count": 23,
   "metadata": {},
   "outputs": [],
   "source": [
    "li_unique_chats = list(set(li_fullchats))"
   ]
  },
  {
   "cell_type": "code",
   "execution_count": 25,
   "metadata": {},
   "outputs": [],
   "source": [
    "li_unique_ja_chats = list(set(li_ja_fullchats))"
   ]
  },
  {
   "cell_type": "code",
   "execution_count": 27,
   "metadata": {},
   "outputs": [
    {
     "data": {
      "text/plain": [
       "9"
      ]
     },
     "execution_count": 27,
     "metadata": {},
     "output_type": "execute_result"
    }
   ],
   "source": [
    "gc.collect()"
   ]
  },
  {
   "cell_type": "code",
   "execution_count": 28,
   "metadata": {},
   "outputs": [
    {
     "data": {
      "text/plain": [
       "8787412"
      ]
     },
     "execution_count": 28,
     "metadata": {},
     "output_type": "execute_result"
    }
   ],
   "source": [
    "len(li_fullchats)"
   ]
  },
  {
   "cell_type": "code",
   "execution_count": 29,
   "metadata": {},
   "outputs": [
    {
     "data": {
      "text/plain": [
       "3353305"
      ]
     },
     "execution_count": 29,
     "metadata": {},
     "output_type": "execute_result"
    }
   ],
   "source": [
    "len(li_unique_chats)"
   ]
  },
  {
   "cell_type": "code",
   "execution_count": 30,
   "metadata": {},
   "outputs": [],
   "source": [
    "with open('./KOYORI/li_koyori_fullchats.pkl', 'wb') as f:\n",
    "    pickle.dump(li_fullchats, f)"
   ]
  },
  {
   "cell_type": "code",
   "execution_count": 31,
   "metadata": {},
   "outputs": [],
   "source": [
    "with open('./KOYORI/li_koyori_uinque_chats.pkl', 'wb') as f:\n",
    "    pickle.dump(li_unique_chats, f)"
   ]
  },
  {
   "cell_type": "code",
   "execution_count": 32,
   "metadata": {},
   "outputs": [],
   "source": [
    "with open('./KOYORI/koyori_fullchats.txt', 'w', encoding='utf-8') as f:\n",
    "    f.write('\\n'.join(li_fullchats))"
   ]
  },
  {
   "cell_type": "code",
   "execution_count": 33,
   "metadata": {},
   "outputs": [],
   "source": [
    "with open('./KOYORI/koyori_unique_chats.txt', 'w', encoding='utf-8') as f:\n",
    "    f.write('\\n'.join(li_unique_chats))"
   ]
  },
  {
   "cell_type": "code",
   "execution_count": null,
   "metadata": {},
   "outputs": [],
   "source": []
  },
  {
   "cell_type": "code",
   "execution_count": 34,
   "metadata": {},
   "outputs": [],
   "source": [
    "with open('./KOYORI/li_koyori_ja_fullchats.pkl', 'wb') as f:\n",
    "    pickle.dump(li_ja_fullchats, f)"
   ]
  },
  {
   "cell_type": "code",
   "execution_count": 35,
   "metadata": {},
   "outputs": [],
   "source": [
    "with open('./KOYORI/li_koyori_ja_uinque_chats.pkl', 'wb') as f:\n",
    "    pickle.dump(li_unique_ja_chats, f)"
   ]
  },
  {
   "cell_type": "code",
   "execution_count": 36,
   "metadata": {},
   "outputs": [],
   "source": [
    "with open('./KOYORI/koyori_ja_fullchats.txt', 'w', encoding='utf-8') as f:\n",
    "    f.write('\\n'.join(li_ja_fullchats))"
   ]
  },
  {
   "cell_type": "code",
   "execution_count": 37,
   "metadata": {},
   "outputs": [],
   "source": [
    "with open('./KOYORI/koyori_ja_unique_chats.txt', 'w', encoding='utf-8') as f:\n",
    "    f.write('\\n'.join(li_unique_ja_chats))"
   ]
  },
  {
   "cell_type": "code",
   "execution_count": null,
   "metadata": {},
   "outputs": [],
   "source": []
  },
  {
   "cell_type": "code",
   "execution_count": null,
   "metadata": {},
   "outputs": [],
   "source": []
  }
 ],
 "metadata": {
  "kernelspec": {
   "display_name": "Python 3 (ipykernel)",
   "language": "python",
   "name": "python3"
  },
  "language_info": {
   "codemirror_mode": {
    "name": "ipython",
    "version": 3
   },
   "file_extension": ".py",
   "mimetype": "text/x-python",
   "name": "python",
   "nbconvert_exporter": "python",
   "pygments_lexer": "ipython3",
   "version": "3.9.7"
  }
 },
 "nbformat": 4,
 "nbformat_minor": 4
}
